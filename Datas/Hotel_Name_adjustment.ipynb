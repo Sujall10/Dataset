{
 "cells": [
  {
   "cell_type": "code",
   "execution_count": 1,
   "id": "c9b30ff7",
   "metadata": {},
   "outputs": [],
   "source": [
    "import pandas as pd\n",
    "import numpy as np"
   ]
  },
  {
   "cell_type": "code",
   "execution_count": 3,
   "id": "a53c894f",
   "metadata": {},
   "outputs": [],
   "source": [
    "df = pd.read_excel('HotelFINALdataset.xlsx')"
   ]
  },
  {
   "cell_type": "code",
   "execution_count": 4,
   "id": "786e8abc",
   "metadata": {},
   "outputs": [
    {
     "data": {
      "text/html": [
       "<div>\n",
       "<style scoped>\n",
       "    .dataframe tbody tr th:only-of-type {\n",
       "        vertical-align: middle;\n",
       "    }\n",
       "\n",
       "    .dataframe tbody tr th {\n",
       "        vertical-align: top;\n",
       "    }\n",
       "\n",
       "    .dataframe thead th {\n",
       "        text-align: right;\n",
       "    }\n",
       "</style>\n",
       "<table border=\"1\" class=\"dataframe\">\n",
       "  <thead>\n",
       "    <tr style=\"text-align: right;\">\n",
       "      <th></th>\n",
       "      <th>User_ID</th>\n",
       "      <th>travelCode</th>\n",
       "      <th>Hotel_Name</th>\n",
       "      <th>Arrival_place</th>\n",
       "      <th>Hotel_stay</th>\n",
       "      <th>Hotel_per_day_price</th>\n",
       "      <th>Check-in</th>\n",
       "      <th>Hotel_TotalPrice</th>\n",
       "    </tr>\n",
       "  </thead>\n",
       "  <tbody>\n",
       "    <tr>\n",
       "      <th>0</th>\n",
       "      <td>0</td>\n",
       "      <td>0</td>\n",
       "      <td>Hotel A</td>\n",
       "      <td>Florianopolis (SC)</td>\n",
       "      <td>4</td>\n",
       "      <td>313.02</td>\n",
       "      <td>09/26/2019</td>\n",
       "      <td>1252.08</td>\n",
       "    </tr>\n",
       "    <tr>\n",
       "      <th>1</th>\n",
       "      <td>0</td>\n",
       "      <td>2</td>\n",
       "      <td>Hotel K</td>\n",
       "      <td>Salvador (BH)</td>\n",
       "      <td>2</td>\n",
       "      <td>263.41</td>\n",
       "      <td>10/10/2019</td>\n",
       "      <td>526.82</td>\n",
       "    </tr>\n",
       "    <tr>\n",
       "      <th>2</th>\n",
       "      <td>0</td>\n",
       "      <td>7</td>\n",
       "      <td>Hotel K</td>\n",
       "      <td>Salvador (BH)</td>\n",
       "      <td>3</td>\n",
       "      <td>263.41</td>\n",
       "      <td>11/14/2019</td>\n",
       "      <td>790.23</td>\n",
       "    </tr>\n",
       "    <tr>\n",
       "      <th>3</th>\n",
       "      <td>0</td>\n",
       "      <td>11</td>\n",
       "      <td>Hotel K</td>\n",
       "      <td>Salvador (BH)</td>\n",
       "      <td>4</td>\n",
       "      <td>263.41</td>\n",
       "      <td>12/12/2019</td>\n",
       "      <td>1053.64</td>\n",
       "    </tr>\n",
       "    <tr>\n",
       "      <th>4</th>\n",
       "      <td>0</td>\n",
       "      <td>13</td>\n",
       "      <td>Hotel A</td>\n",
       "      <td>Florianopolis (SC)</td>\n",
       "      <td>1</td>\n",
       "      <td>313.02</td>\n",
       "      <td>12/26/2019</td>\n",
       "      <td>313.02</td>\n",
       "    </tr>\n",
       "  </tbody>\n",
       "</table>\n",
       "</div>"
      ],
      "text/plain": [
       "   User_ID  travelCode Hotel_Name       Arrival_place  Hotel_stay  \\\n",
       "0        0           0    Hotel A  Florianopolis (SC)           4   \n",
       "1        0           2    Hotel K       Salvador (BH)           2   \n",
       "2        0           7    Hotel K       Salvador (BH)           3   \n",
       "3        0          11    Hotel K       Salvador (BH)           4   \n",
       "4        0          13    Hotel A  Florianopolis (SC)           1   \n",
       "\n",
       "   Hotel_per_day_price    Check-in  Hotel_TotalPrice  \n",
       "0               313.02  09/26/2019           1252.08  \n",
       "1               263.41  10/10/2019            526.82  \n",
       "2               263.41  11/14/2019            790.23  \n",
       "3               263.41  12/12/2019           1053.64  \n",
       "4               313.02  12/26/2019            313.02  "
      ]
     },
     "execution_count": 4,
     "metadata": {},
     "output_type": "execute_result"
    }
   ],
   "source": [
    "df.head()"
   ]
  },
  {
   "cell_type": "code",
   "execution_count": 5,
   "id": "931b79f2",
   "metadata": {},
   "outputs": [
    {
     "data": {
      "text/plain": [
       "Hotel_Name\n",
       "Hotel K     5094\n",
       "Hotel CB    5029\n",
       "Hotel BD    4829\n",
       "Hotel AF    4828\n",
       "Hotel AU    4467\n",
       "Hotel BP    4437\n",
       "Hotel BW    4333\n",
       "Hotel Z     4205\n",
       "Hotel A     3330\n",
       "Name: count, dtype: int64"
      ]
     },
     "execution_count": 5,
     "metadata": {},
     "output_type": "execute_result"
    }
   ],
   "source": [
    "df['Hotel_Name'].value_counts()"
   ]
  },
  {
   "cell_type": "code",
   "execution_count": 6,
   "id": "8ec7acde",
   "metadata": {},
   "outputs": [
    {
     "data": {
      "text/plain": [
       "Arrival_place\n",
       "Salvador (BH)          5094\n",
       "Rio de Janeiro (RJ)    5029\n",
       "Natal (RN)             4829\n",
       "Sao Paulo (SP)         4828\n",
       "Recife (PE)            4467\n",
       "Brasilia (DF)          4437\n",
       "Campo Grande (MS)      4333\n",
       "Aracaju (SE)           4205\n",
       "Florianopolis (SC)     3330\n",
       "Name: count, dtype: int64"
      ]
     },
     "execution_count": 6,
     "metadata": {},
     "output_type": "execute_result"
    }
   ],
   "source": [
    "df['Arrival_place'].value_counts()"
   ]
  },
  {
   "cell_type": "code",
   "execution_count": 7,
   "id": "ee3c3b4a",
   "metadata": {},
   "outputs": [],
   "source": [
    "hotels1 = [\"Grand Palace Hotel\", \"Sunset Resort\", \"Oceanview Inn\"];\n",
    "hotels2 = [\"Mountain Lodge\", \"Skyline Suites\", \"Golden Sands Hotel\"];\n",
    "hotels3 = [\"Royal Orchid\", \"Emerald Bay Resort\", \"Cityscape Hotel\"];\n",
    "hotels4 = [\"Seaside Retreat\", \"The Majestic Tower\", \"Harbor View Hotel\"];\n",
    "hotels5 = [\"Crystal Cove Resort\", \"Lakeside Manor\", \"Urban Elegance Hotel\"];\n",
    "hotels6 = [\"The Grand Horizon\", \"Tranquil Meadows Hotel\", \"Starlight Inn\"];\n",
    "hotels7 = [\"Serenity Bay\", \"Evergreen Lodge\", \"Summit Heights Hotel\"];\n",
    "hotels8 = [\"Azure Waves Resort\", \"Regal Heights Hotel\", \"Velvet Sunset Inn\"];\n",
    "hotels9 = [\"Aurora Bliss Hotel\", \"The Sapphire Retreat\", \"Horizon Cliff Hotel\"];\n"
   ]
  },
  {
   "cell_type": "code",
   "execution_count": 8,
   "id": "0ee75083",
   "metadata": {},
   "outputs": [],
   "source": [
    "hotel_mapping = {\n",
    "    \"Hotel K\": hotels1,\n",
    "    \"Hotel CB\": hotels2,\n",
    "    \"Hotel BD\": hotels3,\n",
    "    \"Hotel AF\": hotels4,\n",
    "    \"Hotel AU\": hotels5,\n",
    "    \"Hotel BP\": hotels6,\n",
    "    \"Hotel BW\": hotels7,\n",
    "    \"Hotel Z\": hotels8,\n",
    "    \"Hotel A\": hotels9\n",
    "}"
   ]
  },
  {
   "cell_type": "code",
   "execution_count": 10,
   "id": "5b684e29",
   "metadata": {},
   "outputs": [],
   "source": [
    "import random\n",
    "def replace_hotel_name(hotel):\n",
    "    if hotel in hotel_mapping:\n",
    "        return random.choice(hotel_mapping[hotel])\n",
    "    return hotel \n",
    "df[\"Hotel_Name\"] = df[\"Hotel_Name\"].apply(replace_hotel_name)"
   ]
  },
  {
   "cell_type": "code",
   "execution_count": 11,
   "id": "d3dd2e9e",
   "metadata": {},
   "outputs": [
    {
     "data": {
      "text/html": [
       "<div>\n",
       "<style scoped>\n",
       "    .dataframe tbody tr th:only-of-type {\n",
       "        vertical-align: middle;\n",
       "    }\n",
       "\n",
       "    .dataframe tbody tr th {\n",
       "        vertical-align: top;\n",
       "    }\n",
       "\n",
       "    .dataframe thead th {\n",
       "        text-align: right;\n",
       "    }\n",
       "</style>\n",
       "<table border=\"1\" class=\"dataframe\">\n",
       "  <thead>\n",
       "    <tr style=\"text-align: right;\">\n",
       "      <th></th>\n",
       "      <th>User_ID</th>\n",
       "      <th>travelCode</th>\n",
       "      <th>Hotel_Name</th>\n",
       "      <th>Arrival_place</th>\n",
       "      <th>Hotel_stay</th>\n",
       "      <th>Hotel_per_day_price</th>\n",
       "      <th>Check-in</th>\n",
       "      <th>Hotel_TotalPrice</th>\n",
       "    </tr>\n",
       "  </thead>\n",
       "  <tbody>\n",
       "    <tr>\n",
       "      <th>0</th>\n",
       "      <td>0</td>\n",
       "      <td>0</td>\n",
       "      <td>The Sapphire Retreat</td>\n",
       "      <td>Florianopolis (SC)</td>\n",
       "      <td>4</td>\n",
       "      <td>313.02</td>\n",
       "      <td>09/26/2019</td>\n",
       "      <td>1252.08</td>\n",
       "    </tr>\n",
       "    <tr>\n",
       "      <th>1</th>\n",
       "      <td>0</td>\n",
       "      <td>2</td>\n",
       "      <td>Oceanview Inn</td>\n",
       "      <td>Salvador (BH)</td>\n",
       "      <td>2</td>\n",
       "      <td>263.41</td>\n",
       "      <td>10/10/2019</td>\n",
       "      <td>526.82</td>\n",
       "    </tr>\n",
       "    <tr>\n",
       "      <th>2</th>\n",
       "      <td>0</td>\n",
       "      <td>7</td>\n",
       "      <td>Oceanview Inn</td>\n",
       "      <td>Salvador (BH)</td>\n",
       "      <td>3</td>\n",
       "      <td>263.41</td>\n",
       "      <td>11/14/2019</td>\n",
       "      <td>790.23</td>\n",
       "    </tr>\n",
       "    <tr>\n",
       "      <th>3</th>\n",
       "      <td>0</td>\n",
       "      <td>11</td>\n",
       "      <td>Oceanview Inn</td>\n",
       "      <td>Salvador (BH)</td>\n",
       "      <td>4</td>\n",
       "      <td>263.41</td>\n",
       "      <td>12/12/2019</td>\n",
       "      <td>1053.64</td>\n",
       "    </tr>\n",
       "    <tr>\n",
       "      <th>4</th>\n",
       "      <td>0</td>\n",
       "      <td>13</td>\n",
       "      <td>Horizon Cliff Hotel</td>\n",
       "      <td>Florianopolis (SC)</td>\n",
       "      <td>1</td>\n",
       "      <td>313.02</td>\n",
       "      <td>12/26/2019</td>\n",
       "      <td>313.02</td>\n",
       "    </tr>\n",
       "    <tr>\n",
       "      <th>...</th>\n",
       "      <td>...</td>\n",
       "      <td>...</td>\n",
       "      <td>...</td>\n",
       "      <td>...</td>\n",
       "      <td>...</td>\n",
       "      <td>...</td>\n",
       "      <td>...</td>\n",
       "      <td>...</td>\n",
       "    </tr>\n",
       "    <tr>\n",
       "      <th>40547</th>\n",
       "      <td>1339</td>\n",
       "      <td>135938</td>\n",
       "      <td>Tranquil Meadows Hotel</td>\n",
       "      <td>Brasilia (DF)</td>\n",
       "      <td>3</td>\n",
       "      <td>247.62</td>\n",
       "      <td>06/18/2020</td>\n",
       "      <td>742.86</td>\n",
       "    </tr>\n",
       "    <tr>\n",
       "      <th>40548</th>\n",
       "      <td>1339</td>\n",
       "      <td>135939</td>\n",
       "      <td>Tranquil Meadows Hotel</td>\n",
       "      <td>Brasilia (DF)</td>\n",
       "      <td>1</td>\n",
       "      <td>247.62</td>\n",
       "      <td>06/25/2020</td>\n",
       "      <td>247.62</td>\n",
       "    </tr>\n",
       "    <tr>\n",
       "      <th>40549</th>\n",
       "      <td>1339</td>\n",
       "      <td>135940</td>\n",
       "      <td>Evergreen Lodge</td>\n",
       "      <td>Campo Grande (MS)</td>\n",
       "      <td>3</td>\n",
       "      <td>60.39</td>\n",
       "      <td>07/02/2020</td>\n",
       "      <td>181.17</td>\n",
       "    </tr>\n",
       "    <tr>\n",
       "      <th>40550</th>\n",
       "      <td>1339</td>\n",
       "      <td>135941</td>\n",
       "      <td>Summit Heights Hotel</td>\n",
       "      <td>Campo Grande (MS)</td>\n",
       "      <td>3</td>\n",
       "      <td>60.39</td>\n",
       "      <td>07/09/2020</td>\n",
       "      <td>181.17</td>\n",
       "    </tr>\n",
       "    <tr>\n",
       "      <th>40551</th>\n",
       "      <td>1339</td>\n",
       "      <td>135942</td>\n",
       "      <td>Emerald Bay Resort</td>\n",
       "      <td>Natal (RN)</td>\n",
       "      <td>4</td>\n",
       "      <td>242.88</td>\n",
       "      <td>07/16/2020</td>\n",
       "      <td>971.52</td>\n",
       "    </tr>\n",
       "  </tbody>\n",
       "</table>\n",
       "<p>40552 rows × 8 columns</p>\n",
       "</div>"
      ],
      "text/plain": [
       "       User_ID  travelCode              Hotel_Name       Arrival_place  \\\n",
       "0            0           0    The Sapphire Retreat  Florianopolis (SC)   \n",
       "1            0           2           Oceanview Inn       Salvador (BH)   \n",
       "2            0           7           Oceanview Inn       Salvador (BH)   \n",
       "3            0          11           Oceanview Inn       Salvador (BH)   \n",
       "4            0          13     Horizon Cliff Hotel  Florianopolis (SC)   \n",
       "...        ...         ...                     ...                 ...   \n",
       "40547     1339      135938  Tranquil Meadows Hotel       Brasilia (DF)   \n",
       "40548     1339      135939  Tranquil Meadows Hotel       Brasilia (DF)   \n",
       "40549     1339      135940         Evergreen Lodge   Campo Grande (MS)   \n",
       "40550     1339      135941    Summit Heights Hotel   Campo Grande (MS)   \n",
       "40551     1339      135942      Emerald Bay Resort          Natal (RN)   \n",
       "\n",
       "       Hotel_stay  Hotel_per_day_price    Check-in  Hotel_TotalPrice  \n",
       "0               4               313.02  09/26/2019           1252.08  \n",
       "1               2               263.41  10/10/2019            526.82  \n",
       "2               3               263.41  11/14/2019            790.23  \n",
       "3               4               263.41  12/12/2019           1053.64  \n",
       "4               1               313.02  12/26/2019            313.02  \n",
       "...           ...                  ...         ...               ...  \n",
       "40547           3               247.62  06/18/2020            742.86  \n",
       "40548           1               247.62  06/25/2020            247.62  \n",
       "40549           3                60.39  07/02/2020            181.17  \n",
       "40550           3                60.39  07/09/2020            181.17  \n",
       "40551           4               242.88  07/16/2020            971.52  \n",
       "\n",
       "[40552 rows x 8 columns]"
      ]
     },
     "execution_count": 11,
     "metadata": {},
     "output_type": "execute_result"
    }
   ],
   "source": [
    "df"
   ]
  },
  {
   "cell_type": "code",
   "execution_count": 13,
   "id": "0c865589",
   "metadata": {},
   "outputs": [
    {
     "data": {
      "text/plain": [
       "27"
      ]
     },
     "execution_count": 13,
     "metadata": {},
     "output_type": "execute_result"
    }
   ],
   "source": [
    "df['Hotel_Name'].nunique()"
   ]
  },
  {
   "cell_type": "code",
   "execution_count": 14,
   "id": "be51fec2",
   "metadata": {},
   "outputs": [
    {
     "data": {
      "text/html": [
       "<a href='Hotel_1Final.xlsx' target='_blank'>Hotel_1Final.xlsx</a><br>"
      ],
      "text/plain": [
       "C:\\Users\\SURAJ\\Desktop\\Dataset\\Datas\\Hotel_1Final.xlsx"
      ]
     },
     "execution_count": 14,
     "metadata": {},
     "output_type": "execute_result"
    }
   ],
   "source": [
    "df.to_excel('Hotel_1Final.xlsx',index=False)\n",
    "from IPython.display import FileLink\n",
    "FileLink('Hotel_1Final.xlsx')"
   ]
  },
  {
   "cell_type": "code",
   "execution_count": null,
   "id": "e1100c49",
   "metadata": {},
   "outputs": [],
   "source": []
  }
 ],
 "metadata": {
  "kernelspec": {
   "display_name": "Python 3 (ipykernel)",
   "language": "python",
   "name": "python3"
  },
  "language_info": {
   "codemirror_mode": {
    "name": "ipython",
    "version": 3
   },
   "file_extension": ".py",
   "mimetype": "text/x-python",
   "name": "python",
   "nbconvert_exporter": "python",
   "pygments_lexer": "ipython3",
   "version": "3.11.5"
  }
 },
 "nbformat": 4,
 "nbformat_minor": 5
}
